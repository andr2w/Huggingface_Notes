{
 "cells": [
  {
   "cell_type": "markdown",
   "id": "49105794",
   "metadata": {},
   "source": [
    "**torch.no_grad() vs. param.requires_grad**\n",
    "\n",
    "\n",
    "- torch.no_grad()\n",
    "    - 定义了一个上下文管理器 (环境), 隐式地不进行梯度更新, 不会改变requires_grad\n",
    "    - 适用于eval阶段, 或model forwad的过程中某些模块不更新梯度(此时这些模块仅进行特征提取(前向计算), 不反向更新)\n",
    "- param.requires_grad\n",
    "    - 显式地frozen掉一些module (layer)的梯度更新\n",
    "    - layer/module级别, 它会更加灵活, disable parts of the network"
   ]
  },
  {
   "cell_type": "code",
   "execution_count": 2,
   "id": "c381a60f",
   "metadata": {},
   "outputs": [
    {
     "name": "stderr",
     "output_type": "stream",
     "text": [
      "Some weights of the model checkpoint at bert-base-uncased were not used when initializing BertModel: ['cls.predictions.transform.LayerNorm.bias', 'cls.seq_relationship.weight', 'cls.predictions.bias', 'cls.predictions.transform.dense.bias', 'cls.seq_relationship.bias', 'cls.predictions.transform.dense.weight', 'cls.predictions.decoder.weight', 'cls.predictions.transform.LayerNorm.weight']\n",
      "- This IS expected if you are initializing BertModel from the checkpoint of a model trained on another task or with another architecture (e.g. initializing a BertForSequenceClassification model from a BertForPreTraining model).\n",
      "- This IS NOT expected if you are initializing BertModel from the checkpoint of a model that you expect to be exactly identical (initializing a BertForSequenceClassification model from a BertForSequenceClassification model).\n"
     ]
    }
   ],
   "source": [
    "from transformers import BertModel\n",
    "import torch \n",
    "import torch.nn as nn\n",
    "\n",
    "model_name = 'bert-base-uncased'\n",
    "bert = BertModel.from_pretrained(model_name)"
   ]
  },
  {
   "cell_type": "code",
   "execution_count": 9,
   "id": "95429d85",
   "metadata": {},
   "outputs": [],
   "source": [
    "def calc_learnable_params(model):\n",
    "    total_param = 0\n",
    "    for name, param in model.named_parameters():\n",
    "        if param.requires_grad:\n",
    "            total_param += param.numel()\n",
    "    return total_param"
   ]
  },
  {
   "cell_type": "code",
   "execution_count": 10,
   "id": "eae2414d",
   "metadata": {},
   "outputs": [
    {
     "name": "stdout",
     "output_type": "stream",
     "text": [
      "109482240\n"
     ]
    }
   ],
   "source": [
    "with torch.no_grad():\n",
    "    print(calc_learnable_params(bert))"
   ]
  },
  {
   "cell_type": "code",
   "execution_count": null,
   "id": "36c7256b",
   "metadata": {},
   "outputs": [],
   "source": []
  }
 ],
 "metadata": {
  "kernelspec": {
   "display_name": "Python 3 (ipykernel)",
   "language": "python",
   "name": "python3"
  },
  "language_info": {
   "codemirror_mode": {
    "name": "ipython",
    "version": 3
   },
   "file_extension": ".py",
   "mimetype": "text/x-python",
   "name": "python",
   "nbconvert_exporter": "python",
   "pygments_lexer": "ipython3",
   "version": "3.11.3"
  }
 },
 "nbformat": 4,
 "nbformat_minor": 5
}
