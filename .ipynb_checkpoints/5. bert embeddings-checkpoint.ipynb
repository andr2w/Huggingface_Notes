{
 "cells": [
  {
   "cell_type": "markdown",
   "id": "75190e1c",
   "metadata": {},
   "source": [
    "![embeddings](bertembeddings.png)"
   ]
  },
  {
   "cell_type": "code",
   "execution_count": 4,
   "id": "8b7f8f13",
   "metadata": {},
   "outputs": [
    {
     "name": "stderr",
     "output_type": "stream",
     "text": [
      "Some weights of the model checkpoint at bert-base-uncased were not used when initializing BertModel: ['cls.predictions.bias', 'cls.predictions.transform.dense.weight', 'cls.seq_relationship.weight', 'cls.predictions.transform.LayerNorm.bias', 'cls.predictions.transform.LayerNorm.weight', 'cls.predictions.transform.dense.bias', 'cls.predictions.decoder.weight', 'cls.seq_relationship.bias']\n",
      "- This IS expected if you are initializing BertModel from the checkpoint of a model trained on another task or with another architecture (e.g. initializing a BertForSequenceClassification model from a BertForPreTraining model).\n",
      "- This IS NOT expected if you are initializing BertModel from the checkpoint of a model that you expect to be exactly identical (initializing a BertForSequenceClassification model from a BertForSequenceClassification model).\n"
     ]
    },
    {
     "data": {
      "text/plain": [
       "BertEmbeddings(\n",
       "  (word_embeddings): Embedding(30522, 768, padding_idx=0)\n",
       "  (position_embeddings): Embedding(512, 768)\n",
       "  (token_type_embeddings): Embedding(2, 768)\n",
       "  (LayerNorm): LayerNorm((768,), eps=1e-12, elementwise_affine=True)\n",
       "  (dropout): Dropout(p=0.1, inplace=False)\n",
       ")"
      ]
     },
     "execution_count": 4,
     "metadata": {},
     "output_type": "execute_result"
    }
   ],
   "source": [
    "from transformers import BertTokenizer, BertModel\n",
    "import torch\n",
    "import torch.nn as nn\n",
    "\n",
    "model_name = 'bert-base-uncased'\n",
    "tokenizer = BertTokenizer.from_pretrained(model_name)\n",
    "model = BertModel.from_pretrained(model_name)\n",
    "model.embeddings"
   ]
  },
  {
   "cell_type": "markdown",
   "id": "5123bd2b",
   "metadata": {},
   "source": [
    "**Summary**\n",
    "\n",
    "- Bert input embedding: a **lookup table/vocab** operation\n",
    "    - lookup tabel\n",
    "        - token embeddings: 30522*768\n",
    "        - segment embeddings (token type embedings): 0/1*8=768\n",
    "        - position embeddings: 512 (max-length)*768\n",
    "    - after operation\n",
    "        - Layer norm\n",
    "        - Drop out"
   ]
  },
  {
   "cell_type": "code",
   "execution_count": 5,
   "id": "9d4f2683",
   "metadata": {},
   "outputs": [
    {
     "data": {
      "text/plain": [
       "(tensor([[ 101, 2023, 2003, 1037, 3231, 6251,  102]]),\n",
       " tensor([[0, 0, 0, 0, 0, 0, 0]]))"
      ]
     },
     "execution_count": 5,
     "metadata": {},
     "output_type": "execute_result"
    }
   ],
   "source": [
    "test_sent = 'this is a test sentence'\n",
    "data_input = tokenizer(test_sent, return_tensors='pt')\n",
    "input_ids = data_input['input_ids']\n",
    "token_type_ids = data_input['token_type_ids']\n",
    "\n",
    "input_ids, token_type_ids"
   ]
  },
  {
   "cell_type": "code",
   "execution_count": 8,
   "id": "309c6742",
   "metadata": {},
   "outputs": [
    {
     "data": {
      "text/plain": [
       "tensor([0, 1, 2, 3, 4, 5, 6])"
      ]
     },
     "execution_count": 8,
     "metadata": {},
     "output_type": "execute_result"
    }
   ],
   "source": [
    "pos_ids = torch.arange(input_ids.shape[1])\n",
    "pos_ids"
   ]
  },
  {
   "cell_type": "code",
   "execution_count": 11,
   "id": "4ff3d757",
   "metadata": {},
   "outputs": [
    {
     "data": {
      "text/plain": [
       "torch.Size([1, 7, 768])"
      ]
     },
     "execution_count": 11,
     "metadata": {},
     "output_type": "execute_result"
    }
   ],
   "source": [
    "model.embeddings(input_ids, token_type_ids).shape"
   ]
  },
  {
   "cell_type": "markdown",
   "id": "5426956e",
   "metadata": {},
   "source": [
    "### Token embedding"
   ]
  },
  {
   "cell_type": "code",
   "execution_count": 12,
   "id": "4208e994",
   "metadata": {},
   "outputs": [
    {
     "data": {
      "text/plain": [
       "torch.Size([1, 7, 768])"
      ]
     },
     "execution_count": 12,
     "metadata": {},
     "output_type": "execute_result"
    }
   ],
   "source": [
    "token_embed = model.embeddings.word_embeddings(input_ids)\n",
    "token_embed.shape"
   ]
  },
  {
   "cell_type": "markdown",
   "id": "684ae887",
   "metadata": {},
   "source": [
    "### Token_type embedding"
   ]
  },
  {
   "cell_type": "code",
   "execution_count": 13,
   "id": "8c067823",
   "metadata": {},
   "outputs": [
    {
     "data": {
      "text/plain": [
       "torch.Size([1, 7, 768])"
      ]
     },
     "execution_count": 13,
     "metadata": {},
     "output_type": "execute_result"
    }
   ],
   "source": [
    "token_type_embed = model.embeddings.token_type_embeddings(token_type_ids)\n",
    "token_type_embed.shape"
   ]
  },
  {
   "cell_type": "markdown",
   "id": "600cb6b4",
   "metadata": {},
   "source": [
    "#### Position embedding"
   ]
  },
  {
   "cell_type": "code",
   "execution_count": 14,
   "id": "f9fe4bd7",
   "metadata": {},
   "outputs": [
    {
     "data": {
      "text/plain": [
       "torch.Size([7, 768])"
      ]
     },
     "execution_count": 14,
     "metadata": {},
     "output_type": "execute_result"
    }
   ],
   "source": [
    "pos_embed = model.embeddings.position_embeddings(pos_ids)\n",
    "pos_embed.shape"
   ]
  },
  {
   "cell_type": "markdown",
   "id": "945d3df2",
   "metadata": {},
   "source": [
    "### Input embedding"
   ]
  },
  {
   "cell_type": "code",
   "execution_count": 17,
   "id": "a395b8b4",
   "metadata": {},
   "outputs": [
    {
     "data": {
      "text/plain": [
       "torch.Size([1, 7, 768])"
      ]
     },
     "execution_count": 17,
     "metadata": {},
     "output_type": "execute_result"
    }
   ],
   "source": [
    "input_embed = token_embed + token_type_embed + pos_embed.unsqueeze(0)\n",
    "input_embed.shape"
   ]
  },
  {
   "cell_type": "markdown",
   "id": "35693bcc",
   "metadata": {},
   "source": [
    "### After operation"
   ]
  },
  {
   "cell_type": "code",
   "execution_count": 18,
   "id": "c3a5fbd1",
   "metadata": {},
   "outputs": [
    {
     "data": {
      "text/plain": [
       "torch.Size([1, 7, 768])"
      ]
     },
     "execution_count": 18,
     "metadata": {},
     "output_type": "execute_result"
    }
   ],
   "source": [
    "embed = model.embeddings.LayerNorm(input_embed)\n",
    "embed = model.embeddings.dropout(embed)\n",
    "embed.shape"
   ]
  }
 ],
 "metadata": {
  "kernelspec": {
   "display_name": "Python 3 (ipykernel)",
   "language": "python",
   "name": "python3"
  },
  "language_info": {
   "codemirror_mode": {
    "name": "ipython",
    "version": 3
   },
   "file_extension": ".py",
   "mimetype": "text/x-python",
   "name": "python",
   "nbconvert_exporter": "python",
   "pygments_lexer": "ipython3",
   "version": "3.11.3"
  }
 },
 "nbformat": 4,
 "nbformat_minor": 5
}
